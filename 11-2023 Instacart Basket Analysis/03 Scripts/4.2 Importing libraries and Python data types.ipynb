{
 "cells": [
  {
   "cell_type": "markdown",
   "id": "12943a85",
   "metadata": {},
   "source": [
    "# 01. Importing libraries"
   ]
  },
  {
   "cell_type": "code",
   "execution_count": 7,
   "id": "c683dafc",
   "metadata": {},
   "outputs": [],
   "source": [
    "# Import libraries\n",
    "import pandas as pd\n",
    "import numpy as np\n",
    "import os"
   ]
  },
  {
   "cell_type": "markdown",
   "id": "3c82a8ca",
   "metadata": {},
   "source": [
    "# Working with Python data types"
   ]
  },
  {
   "cell_type": "markdown",
   "id": "568a03f7",
   "metadata": {},
   "source": [
    "## Task 7: Code 3 different ways of reaching a result of 100 by adding or subtracting numeric variables."
   ]
  },
  {
   "cell_type": "code",
   "execution_count": 8,
   "id": "b7f5c9a2",
   "metadata": {},
   "outputs": [
    {
     "data": {
      "text/plain": [
       "100"
      ]
     },
     "execution_count": 8,
     "metadata": {},
     "output_type": "execute_result"
    }
   ],
   "source": [
    "90 + 10"
   ]
  },
  {
   "cell_type": "code",
   "execution_count": 9,
   "id": "fd48f6ce",
   "metadata": {},
   "outputs": [
    {
     "data": {
      "text/plain": [
       "100"
      ]
     },
     "execution_count": 9,
     "metadata": {},
     "output_type": "execute_result"
    }
   ],
   "source": [
    "110-10"
   ]
  },
  {
   "cell_type": "code",
   "execution_count": 10,
   "id": "09db2019",
   "metadata": {},
   "outputs": [
    {
     "data": {
      "text/plain": [
       "100"
      ]
     },
     "execution_count": 10,
     "metadata": {},
     "output_type": "execute_result"
    }
   ],
   "source": [
    "33+33+33+1"
   ]
  },
  {
   "cell_type": "markdown",
   "id": "186d5076",
   "metadata": {},
   "source": [
    "## Task 8: Code 2 floating-point variables and divide them by each other."
   ]
  },
  {
   "cell_type": "code",
   "execution_count": 11,
   "id": "004f8913",
   "metadata": {},
   "outputs": [],
   "source": [
    "x = 25.25\n",
    "y = 5.5"
   ]
  },
  {
   "cell_type": "code",
   "execution_count": 12,
   "id": "a9182da7",
   "metadata": {},
   "outputs": [
    {
     "data": {
      "text/plain": [
       "4.590909090909091"
      ]
     },
     "execution_count": 12,
     "metadata": {},
     "output_type": "execute_result"
    }
   ],
   "source": [
    "x/y"
   ]
  },
  {
   "cell_type": "markdown",
   "id": "4f5fbcb1",
   "metadata": {},
   "source": [
    "## Task 9: Construct a short word made of separate strings (you’ll need to concatenate some strings!)."
   ]
  },
  {
   "cell_type": "code",
   "execution_count": 13,
   "id": "e6677a40",
   "metadata": {},
   "outputs": [
    {
     "data": {
      "text/plain": [
       "'Hangover'"
      ]
     },
     "execution_count": 13,
     "metadata": {},
     "output_type": "execute_result"
    }
   ],
   "source": [
    "x = 'Hang'\n",
    "y = 'over'\n",
    "x+y"
   ]
  },
  {
   "cell_type": "markdown",
   "id": "b61448f4",
   "metadata": {},
   "source": [
    "## Task 10: Construct 2 short sentences made of separate strings."
   ]
  },
  {
   "cell_type": "code",
   "execution_count": 16,
   "id": "e74c29c7",
   "metadata": {},
   "outputs": [
    {
     "data": {
      "text/plain": [
       "'This is sentence number 1. This is sentence number 2.'"
      ]
     },
     "execution_count": 16,
     "metadata": {},
     "output_type": "execute_result"
    }
   ],
   "source": [
    "a = 'This '\n",
    "b = 'is '\n",
    "c = 'sentence '\n",
    "d = 'number '\n",
    "e = '1. '\n",
    "f = '2.'\n",
    "a+b+c+d+e+a+b+c+d+f"
   ]
  },
  {
   "cell_type": "markdown",
   "id": "a3a7957f",
   "metadata": {},
   "source": [
    "## Bonus Task: At the bottom of your file, include a command that makes a string appear 100 times."
   ]
  },
  {
   "cell_type": "code",
   "execution_count": 17,
   "id": "c819062e",
   "metadata": {},
   "outputs": [
    {
     "data": {
      "text/plain": [
       "'This This This This This This This This This This This This This This This This This This This This This This This This This This This This This This This This This This This This This This This This This This This This This This This This This This This This This This This This This This This This This This This This This This This This This This This This This This This This This This This This This This This This This This This This This This This This This This This This This This This This '"
      ]
     },
     "execution_count": 17,
     "metadata": {},
     "output_type": "execute_result"
    }
   ],
   "source": [
    "100*a"
   ]
  },
  {
   "cell_type": "code",
   "execution_count": null,
   "id": "dce7c737",
   "metadata": {},
   "outputs": [],
   "source": []
  }
 ],
 "metadata": {
  "kernelspec": {
   "display_name": "Python 3 (ipykernel)",
   "language": "python",
   "name": "python3"
  },
  "language_info": {
   "codemirror_mode": {
    "name": "ipython",
    "version": 3
   },
   "file_extension": ".py",
   "mimetype": "text/x-python",
   "name": "python",
   "nbconvert_exporter": "python",
   "pygments_lexer": "ipython3",
   "version": "3.11.5"
  }
 },
 "nbformat": 4,
 "nbformat_minor": 5
}
